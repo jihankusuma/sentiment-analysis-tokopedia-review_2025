{
  "nbformat": 4,
  "nbformat_minor": 0,
  "metadata": {
    "colab": {
      "provenance": []
    },
    "kernelspec": {
      "name": "python3",
      "display_name": "Python 3"
    },
    "language_info": {
      "name": "python"
    }
  },
  "cells": [
    {
      "cell_type": "markdown",
      "source": [
        "#Import Library"
      ],
      "metadata": {
        "id": "utPY9yefl1Qu"
      }
    },
    {
      "cell_type": "code",
      "source": [
        "import pandas as pd\n",
        "import numpy as np\n",
        "from sklearn.model_selection import train_test_split\n",
        "from sklearn.preprocessing import LabelEncoder\n",
        "from sklearn.feature_extraction.text import TfidfVectorizer\n",
        "from imblearn.over_sampling import SMOTE\n",
        "from tensorflow.keras.models import Sequential\n",
        "from tensorflow.keras.layers import Embedding, LSTM, Dropout, Dense\n",
        "from tensorflow.keras.callbacks import EarlyStopping, ReduceLROnPlateau\n",
        "from tensorflow.keras.preprocessing.text import Tokenizer\n",
        "from tensorflow.keras.preprocessing.sequence import pad_sequences\n",
        "from sklearn.svm import SVC\n",
        "from sklearn.ensemble import RandomForestClassifier\n",
        "from sklearn.metrics import classification_report, accuracy_score\n",
        "from collections import Counter\n",
        "import re\n",
        "import string"
      ],
      "metadata": {
        "id": "PBajQ_yelqCK"
      },
      "execution_count": 1,
      "outputs": []
    },
    {
      "cell_type": "code",
      "source": [
        "pip install imbalanced-learn"
      ],
      "metadata": {
        "colab": {
          "base_uri": "https://localhost:8080/"
        },
        "id": "wxayeXNcpOSf",
        "outputId": "1edbb61c-0803-42de-d266-313ae176c8d0"
      },
      "execution_count": 2,
      "outputs": [
        {
          "output_type": "stream",
          "name": "stdout",
          "text": [
            "Requirement already satisfied: imbalanced-learn in /usr/local/lib/python3.11/dist-packages (0.13.0)\n",
            "Requirement already satisfied: numpy<3,>=1.24.3 in /usr/local/lib/python3.11/dist-packages (from imbalanced-learn) (2.0.2)\n",
            "Requirement already satisfied: scipy<2,>=1.10.1 in /usr/local/lib/python3.11/dist-packages (from imbalanced-learn) (1.14.1)\n",
            "Requirement already satisfied: scikit-learn<2,>=1.3.2 in /usr/local/lib/python3.11/dist-packages (from imbalanced-learn) (1.6.1)\n",
            "Requirement already satisfied: sklearn-compat<1,>=0.1 in /usr/local/lib/python3.11/dist-packages (from imbalanced-learn) (0.1.3)\n",
            "Requirement already satisfied: joblib<2,>=1.1.1 in /usr/local/lib/python3.11/dist-packages (from imbalanced-learn) (1.4.2)\n",
            "Requirement already satisfied: threadpoolctl<4,>=2.0.0 in /usr/local/lib/python3.11/dist-packages (from imbalanced-learn) (3.6.0)\n"
          ]
        }
      ]
    },
    {
      "cell_type": "markdown",
      "source": [
        "#Memuat Dataset"
      ],
      "metadata": {
        "id": "yRKFxMh5l3ro"
      }
    },
    {
      "cell_type": "code",
      "source": [
        "df = pd.read_csv('/content/ULASAN_TOKOPEDIA.csv')\n",
        "\n",
        "print(\"Jumlah baris dan kolom:\")\n",
        "print(df.shape)\n",
        "\n",
        "print(\"\\nInformasi kolom:\")\n",
        "print(df.info())\n",
        "\n",
        "print(\"\\n5 baris pertama dataset:\")\n",
        "print(df.head())"
      ],
      "metadata": {
        "colab": {
          "base_uri": "https://localhost:8080/"
        },
        "id": "bS_E7eCRnCHc",
        "outputId": "29e1921f-059c-42aa-dea9-a1de803fca94"
      },
      "execution_count": 3,
      "outputs": [
        {
          "output_type": "stream",
          "name": "stdout",
          "text": [
            "Jumlah baris dan kolom:\n",
            "(30000, 11)\n",
            "\n",
            "Informasi kolom:\n",
            "<class 'pandas.core.frame.DataFrame'>\n",
            "RangeIndex: 30000 entries, 0 to 29999\n",
            "Data columns (total 11 columns):\n",
            " #   Column                Non-Null Count  Dtype \n",
            "---  ------                --------------  ----- \n",
            " 0   reviewId              30000 non-null  object\n",
            " 1   userName              30000 non-null  object\n",
            " 2   userImage             30000 non-null  object\n",
            " 3   content               30000 non-null  object\n",
            " 4   score                 30000 non-null  int64 \n",
            " 5   thumbsUpCount         30000 non-null  int64 \n",
            " 6   reviewCreatedVersion  19975 non-null  object\n",
            " 7   at                    30000 non-null  object\n",
            " 8   replyContent          7562 non-null   object\n",
            " 9   repliedAt             7562 non-null   object\n",
            " 10  appVersion            19975 non-null  object\n",
            "dtypes: int64(2), object(9)\n",
            "memory usage: 2.5+ MB\n",
            "None\n",
            "\n",
            "5 baris pertama dataset:\n",
            "                               reviewId         userName  \\\n",
            "0  30bc2f12-72d1-46bd-9fd3-d7ae372fe687  Pengguna Google   \n",
            "1  c2695776-4795-4c00-b918-da2112d64926  Pengguna Google   \n",
            "2  2e9791a6-c641-4273-b91a-17f5aadcb4bc  Pengguna Google   \n",
            "3  5ad042fa-7453-455c-bb80-ba15d22969ed  Pengguna Google   \n",
            "4  47e8f9e7-8849-4d4e-a205-cef1ce198e5a  Pengguna Google   \n",
            "\n",
            "                                           userImage  \\\n",
            "0  https://play-lh.googleusercontent.com/EGemoI2N...   \n",
            "1  https://play-lh.googleusercontent.com/EGemoI2N...   \n",
            "2  https://play-lh.googleusercontent.com/EGemoI2N...   \n",
            "3  https://play-lh.googleusercontent.com/EGemoI2N...   \n",
            "4  https://play-lh.googleusercontent.com/EGemoI2N...   \n",
            "\n",
            "                                             content  score  thumbsUpCount  \\\n",
            "0  saran untuk developer tokopedia., -pilihan ala...      5            146   \n",
            "1  Transaksi pake Qris ga guna malah rugi, di qri...      5            634   \n",
            "2  Masukan untuk team developer TOKOPEDIA , alang...      5           1169   \n",
            "3  aplikasi sudah bagus, kekurangan nya ada 1 : g...      5            144   \n",
            "4  baru bikin rating, udh make toped dari lama ka...      5              1   \n",
            "\n",
            "  reviewCreatedVersion                   at  \\\n",
            "0              3.305.0  2025-03-28 02:35:50   \n",
            "1              3.302.0  2025-03-11 04:34:06   \n",
            "2              3.301.1  2025-03-01 04:07:14   \n",
            "3              3.303.0  2025-03-15 15:03:55   \n",
            "4              3.305.0  2025-03-30 15:29:32   \n",
            "\n",
            "                                        replyContent            repliedAt  \\\n",
            "0  Toppers, terima kasih atas rating yang kamu be...  2025-03-28 03:07:01   \n",
            "1  Hi Toppers, terima kasih untuk rating dan ulas...  2025-03-11 05:07:01   \n",
            "2  Toppers, terima kasih atas rating yang kamu be...  2025-03-01 04:27:01   \n",
            "3  Terima kasih sudah mempercayakan Tokopedia seb...  2025-03-15 15:27:03   \n",
            "4  Hi Toppers, terima kasih untuk rating dan ulas...  2025-03-30 16:07:05   \n",
            "\n",
            "  appVersion  \n",
            "0    3.305.0  \n",
            "1    3.302.0  \n",
            "2    3.301.1  \n",
            "3    3.303.0  \n",
            "4    3.305.0  \n"
          ]
        }
      ]
    },
    {
      "cell_type": "code",
      "source": [
        "print(\"\\nJumlah nilai yang hilang per kolom:\")\n",
        "print(df.isnull().sum())"
      ],
      "metadata": {
        "colab": {
          "base_uri": "https://localhost:8080/"
        },
        "id": "7isib47unKN1",
        "outputId": "87a4ac77-78ce-4bc8-e629-dea818a41e33"
      },
      "execution_count": 4,
      "outputs": [
        {
          "output_type": "stream",
          "name": "stdout",
          "text": [
            "\n",
            "Jumlah nilai yang hilang per kolom:\n",
            "reviewId                    0\n",
            "userName                    0\n",
            "userImage                   0\n",
            "content                     0\n",
            "score                       0\n",
            "thumbsUpCount               0\n",
            "reviewCreatedVersion    10025\n",
            "at                          0\n",
            "replyContent            22438\n",
            "repliedAt               22438\n",
            "appVersion              10025\n",
            "dtype: int64\n"
          ]
        }
      ]
    },
    {
      "cell_type": "code",
      "source": [
        "print(\"\\nDistribusi rating:\")\n",
        "print(df['score'].value_counts())"
      ],
      "metadata": {
        "colab": {
          "base_uri": "https://localhost:8080/"
        },
        "id": "NKHKfOATnLH3",
        "outputId": "0bf7d520-fe4e-4c18-80c5-6ba5aacd63af"
      },
      "execution_count": 5,
      "outputs": [
        {
          "output_type": "stream",
          "name": "stdout",
          "text": [
            "\n",
            "Distribusi rating:\n",
            "score\n",
            "5    30000\n",
            "Name: count, dtype: int64\n"
          ]
        }
      ]
    },
    {
      "cell_type": "markdown",
      "source": [
        "#Data Preprocessing"
      ],
      "metadata": {
        "id": "GyQTgt0Rl7pn"
      }
    },
    {
      "cell_type": "markdown",
      "source": [
        "####Cek Data Missing"
      ],
      "metadata": {
        "id": "fvdG6DpDl-4Y"
      }
    },
    {
      "cell_type": "code",
      "source": [
        "df_cleaned = df.dropna(subset=['userName'])\n",
        "print(df_cleaned.isnull().sum())"
      ],
      "metadata": {
        "colab": {
          "base_uri": "https://localhost:8080/"
        },
        "id": "kRJAITQ_HXFt",
        "outputId": "5c0e6a15-5591-4401-e872-d27902cd73ba"
      },
      "execution_count": 6,
      "outputs": [
        {
          "output_type": "stream",
          "name": "stdout",
          "text": [
            "reviewId                    0\n",
            "userName                    0\n",
            "userImage                   0\n",
            "content                     0\n",
            "score                       0\n",
            "thumbsUpCount               0\n",
            "reviewCreatedVersion    10025\n",
            "at                          0\n",
            "replyContent            22438\n",
            "repliedAt               22438\n",
            "appVersion              10025\n",
            "dtype: int64\n"
          ]
        }
      ]
    },
    {
      "cell_type": "markdown",
      "source": [
        "####Text Cleaning"
      ],
      "metadata": {
        "id": "9xlRPvI7mCYF"
      }
    },
    {
      "cell_type": "code",
      "source": [
        "def clean_text(text):\n",
        "    text = text.lower()\n",
        "    text = re.sub(r'\\d+', '', text)\n",
        "    text = text.translate(str.maketrans('', '', string.punctuation))\n",
        "    return text\n",
        "\n",
        "df['cleaned_comment'] = df['content'].apply(clean_text)"
      ],
      "metadata": {
        "id": "Y3X0TF4UluqC"
      },
      "execution_count": 7,
      "outputs": []
    },
    {
      "cell_type": "markdown",
      "source": [
        "####Labeling Sentimen"
      ],
      "metadata": {
        "id": "VU0ar8HbmFAT"
      }
    },
    {
      "cell_type": "code",
      "source": [
        "def get_sentiment(text):\n",
        "    from textblob import TextBlob\n",
        "    polarity = TextBlob(text).sentiment.polarity\n",
        "    if polarity > 0:\n",
        "        return 'positif'\n",
        "    elif polarity < 0:\n",
        "        return 'negatif'\n",
        "    else:\n",
        "        return 'netral'\n",
        "\n",
        "df['label'] = df['cleaned_comment'].apply(get_sentiment)"
      ],
      "metadata": {
        "id": "UBAfknJMlv_q"
      },
      "execution_count": 8,
      "outputs": []
    },
    {
      "cell_type": "markdown",
      "source": [
        "#Data Preparation"
      ],
      "metadata": {
        "id": "QvutK5npmHyv"
      }
    },
    {
      "cell_type": "code",
      "source": [
        "y = LabelEncoder().fit_transform(df['label'])\n",
        "X = df['cleaned_comment']\n",
        "\n",
        "X_train_raw, X_test_raw, y_train, y_test = train_test_split(X, y, test_size=0.2, random_state=42, stratify=y)"
      ],
      "metadata": {
        "id": "TsrH__7gagnh"
      },
      "execution_count": 9,
      "outputs": []
    },
    {
      "cell_type": "markdown",
      "source": [
        "#Eksperimen dengan 3 Skema Pelatihan"
      ],
      "metadata": {
        "id": "fY38RKkgmKsI"
      }
    },
    {
      "cell_type": "markdown",
      "source": [
        "####Skema 1: SVM dengan TF-IDF(80/20 split)"
      ],
      "metadata": {
        "id": "ZUhzgZwmmOVt"
      }
    },
    {
      "cell_type": "code",
      "source": [
        "vectorizer = TfidfVectorizer()\n",
        "X_train_tfidf = vectorizer.fit_transform(X_train_raw)\n",
        "X_test_tfidf = vectorizer.transform(X_test_raw)\n",
        "\n",
        "smote = SMOTE(random_state=42)\n",
        "X_train_tfidf_smote, y_train_smote = smote.fit_resample(X_train_tfidf, y_train)\n",
        "\n",
        "print(\"Distribusi label setelah SMOTE:\", Counter(y_train_smote))"
      ],
      "metadata": {
        "colab": {
          "base_uri": "https://localhost:8080/"
        },
        "id": "QgUrk3cAi3YW",
        "outputId": "90c4a1f8-19b6-4527-f757-4aed0151bfb1"
      },
      "execution_count": 10,
      "outputs": [
        {
          "output_type": "stream",
          "name": "stdout",
          "text": [
            "Distribusi label setelah SMOTE: Counter({np.int64(1): 21340, np.int64(2): 21340, np.int64(0): 21340})\n"
          ]
        }
      ]
    },
    {
      "cell_type": "code",
      "source": [
        "svm = SVC(kernel='linear', random_state=42)\n",
        "svm.fit(X_train_tfidf_smote, y_train_smote)\n",
        "y_pred_svm = svm.predict(X_test_tfidf)\n",
        "accuracy_svm = accuracy_score(y_test, y_pred_svm)\n",
        "print(\"\\nEvaluasi Model SVM:\")\n",
        "print(f\"Accuracy: {accuracy_svm}\")\n",
        "print(classification_report(y_test, y_pred_svm, target_names=['negatif', 'netral', 'positif']))"
      ],
      "metadata": {
        "colab": {
          "base_uri": "https://localhost:8080/"
        },
        "id": "dlxCQ00dbIY2",
        "outputId": "ff77c980-7ef6-4d11-b78e-50241233c78f"
      },
      "execution_count": 11,
      "outputs": [
        {
          "output_type": "stream",
          "name": "stdout",
          "text": [
            "\n",
            "Evaluasi Model SVM:\n",
            "Accuracy: 0.9888333333333333\n",
            "              precision    recall  f1-score   support\n",
            "\n",
            "     negatif       0.95      0.68      0.79        59\n",
            "      netral       0.99      1.00      0.99      5335\n",
            "     positif       0.97      0.94      0.96       606\n",
            "\n",
            "    accuracy                           0.99      6000\n",
            "   macro avg       0.97      0.87      0.91      6000\n",
            "weighted avg       0.99      0.99      0.99      6000\n",
            "\n"
          ]
        }
      ]
    },
    {
      "cell_type": "markdown",
      "source": [
        "####Skema 2: Random Forest dengan Word2Vec (80/20 split)"
      ],
      "metadata": {
        "id": "ZHeSAxaPmTcL"
      }
    },
    {
      "cell_type": "code",
      "source": [
        "rf = RandomForestClassifier(random_state=42)\n",
        "rf.fit(X_train_tfidf_smote, y_train_smote)\n",
        "y_pred_rf = rf.predict(X_test_tfidf)\n",
        "accuracy_rf = accuracy_score(y_test, y_pred_rf)\n",
        "print(\"\\nEvaluasi Model Random Forest:\")\n",
        "print(f\"Accuracy: {accuracy_rf}\")\n",
        "print(classification_report(y_test, y_pred_rf, target_names=['negatif', 'netral', 'positif']))"
      ],
      "metadata": {
        "colab": {
          "base_uri": "https://localhost:8080/"
        },
        "id": "a8WVqFoCbL2k",
        "outputId": "f58882ce-b6b2-4f76-9db8-c1f12b948f2b"
      },
      "execution_count": 12,
      "outputs": [
        {
          "output_type": "stream",
          "name": "stdout",
          "text": [
            "\n",
            "Evaluasi Model Random Forest:\n",
            "Accuracy: 0.9243333333333333\n",
            "              precision    recall  f1-score   support\n",
            "\n",
            "     negatif       1.00      0.03      0.07        59\n",
            "      netral       0.92      1.00      0.96      5335\n",
            "     positif       0.91      0.38      0.54       606\n",
            "\n",
            "    accuracy                           0.92      6000\n",
            "   macro avg       0.94      0.47      0.52      6000\n",
            "weighted avg       0.92      0.92      0.91      6000\n",
            "\n"
          ]
        }
      ]
    },
    {
      "cell_type": "markdown",
      "source": [
        "####Skema 3: Deep Learning LSTM (70/30 split)"
      ],
      "metadata": {
        "id": "UdMSidPNmaaT"
      }
    },
    {
      "cell_type": "code",
      "source": [
        "max_words = 10000\n",
        "max_len = 100\n",
        "tokenizer = Tokenizer(num_words=max_words)\n",
        "tokenizer.fit_on_texts(X_train_raw)\n",
        "\n",
        "X_train_seq = tokenizer.texts_to_sequences(X_train_raw)\n",
        "X_test_seq = tokenizer.texts_to_sequences(X_test_raw)\n",
        "\n",
        "X_train_pad = pad_sequences(X_train_seq, maxlen=max_len)\n",
        "X_test_pad = pad_sequences(X_test_seq, maxlen=max_len)\n",
        "\n",
        "y_train_cat = pd.get_dummies(y_train).values\n",
        "y_test_cat = pd.get_dummies(y_test).values"
      ],
      "metadata": {
        "id": "jyZmF6Lpi-Dl"
      },
      "execution_count": 13,
      "outputs": []
    },
    {
      "cell_type": "code",
      "source": [
        "model_lstm = Sequential([\n",
        "    Embedding(input_dim=max_words, output_dim=100, input_length=max_len),\n",
        "    LSTM(128, return_sequences=True, kernel_regularizer='l2'),\n",
        "    Dropout(0.5),\n",
        "    LSTM(64, kernel_regularizer='l2'),\n",
        "    Dropout(0.5),\n",
        "    Dense(3, activation='softmax')\n",
        "])\n",
        "\n",
        "model_lstm.compile(loss='categorical_crossentropy', optimizer='adam', metrics=['accuracy'])\n",
        "\n",
        "callbacks = [\n",
        "    EarlyStopping(monitor='val_loss', patience=3, restore_best_weights=True),\n",
        "    ReduceLROnPlateau(monitor='val_loss', factor=0.2, patience=2)\n",
        "]\n",
        "\n",
        "history = model_lstm.fit(\n",
        "    X_train_pad, y_train_cat,\n",
        "    epochs=15,\n",
        "    batch_size=64,\n",
        "    validation_data=(X_test_pad, y_test_cat),\n",
        "    callbacks=callbacks\n",
        ")\n",
        "\n",
        "loss, accuracy_lstm = model_lstm.evaluate(X_test_pad, y_test_cat)\n",
        "print(\"\\nEvaluasi Model LSTM:\")\n",
        "print(f\"Accuracy: {accuracy_lstm}\")"
      ],
      "metadata": {
        "id": "xYpCES0YXGeR",
        "colab": {
          "base_uri": "https://localhost:8080/"
        },
        "outputId": "6be880b2-f261-4dc0-c57a-66087317e087"
      },
      "execution_count": 14,
      "outputs": [
        {
          "output_type": "stream",
          "name": "stderr",
          "text": [
            "/usr/local/lib/python3.11/dist-packages/keras/src/layers/core/embedding.py:90: UserWarning: Argument `input_length` is deprecated. Just remove it.\n",
            "  warnings.warn(\n"
          ]
        },
        {
          "output_type": "stream",
          "name": "stdout",
          "text": [
            "Epoch 1/15\n",
            "\u001b[1m375/375\u001b[0m \u001b[32m━━━━━━━━━━━━━━━━━━━━\u001b[0m\u001b[37m\u001b[0m \u001b[1m157s\u001b[0m 402ms/step - accuracy: 0.8775 - loss: 1.4160 - val_accuracy: 0.8892 - val_loss: 0.3855 - learning_rate: 0.0010\n",
            "Epoch 2/15\n",
            "\u001b[1m375/375\u001b[0m \u001b[32m━━━━━━━━━━━━━━━━━━━━\u001b[0m\u001b[37m\u001b[0m \u001b[1m192s\u001b[0m 378ms/step - accuracy: 0.8889 - loss: 0.3951 - val_accuracy: 0.8892 - val_loss: 0.3828 - learning_rate: 0.0010\n",
            "Epoch 3/15\n",
            "\u001b[1m375/375\u001b[0m \u001b[32m━━━━━━━━━━━━━━━━━━━━\u001b[0m\u001b[37m\u001b[0m \u001b[1m152s\u001b[0m 405ms/step - accuracy: 0.8884 - loss: 0.3913 - val_accuracy: 0.8892 - val_loss: 0.3819 - learning_rate: 0.0010\n",
            "Epoch 4/15\n",
            "\u001b[1m375/375\u001b[0m \u001b[32m━━━━━━━━━━━━━━━━━━━━\u001b[0m\u001b[37m\u001b[0m \u001b[1m234s\u001b[0m 490ms/step - accuracy: 0.8889 - loss: 0.3869 - val_accuracy: 0.8892 - val_loss: 0.3829 - learning_rate: 0.0010\n",
            "Epoch 5/15\n",
            "\u001b[1m375/375\u001b[0m \u001b[32m━━━━━━━━━━━━━━━━━━━━\u001b[0m\u001b[37m\u001b[0m \u001b[1m172s\u001b[0m 411ms/step - accuracy: 0.8883 - loss: 0.3889 - val_accuracy: 0.8892 - val_loss: 0.3817 - learning_rate: 0.0010\n",
            "Epoch 6/15\n",
            "\u001b[1m375/375\u001b[0m \u001b[32m━━━━━━━━━━━━━━━━━━━━\u001b[0m\u001b[37m\u001b[0m \u001b[1m206s\u001b[0m 422ms/step - accuracy: 0.8887 - loss: 0.3907 - val_accuracy: 0.8892 - val_loss: 0.3822 - learning_rate: 0.0010\n",
            "Epoch 7/15\n",
            "\u001b[1m375/375\u001b[0m \u001b[32m━━━━━━━━━━━━━━━━━━━━\u001b[0m\u001b[37m\u001b[0m \u001b[1m204s\u001b[0m 427ms/step - accuracy: 0.8902 - loss: 0.3835 - val_accuracy: 0.8892 - val_loss: 0.3837 - learning_rate: 0.0010\n",
            "Epoch 8/15\n",
            "\u001b[1m375/375\u001b[0m \u001b[32m━━━━━━━━━━━━━━━━━━━━\u001b[0m\u001b[37m\u001b[0m \u001b[1m193s\u001b[0m 404ms/step - accuracy: 0.8900 - loss: 0.3843 - val_accuracy: 0.8892 - val_loss: 0.3815 - learning_rate: 2.0000e-04\n",
            "Epoch 9/15\n",
            "\u001b[1m375/375\u001b[0m \u001b[32m━━━━━━━━━━━━━━━━━━━━\u001b[0m\u001b[37m\u001b[0m \u001b[1m192s\u001b[0m 379ms/step - accuracy: 0.8865 - loss: 0.3926 - val_accuracy: 0.8892 - val_loss: 0.3815 - learning_rate: 2.0000e-04\n",
            "Epoch 10/15\n",
            "\u001b[1m375/375\u001b[0m \u001b[32m━━━━━━━━━━━━━━━━━━━━\u001b[0m\u001b[37m\u001b[0m \u001b[1m210s\u001b[0m 401ms/step - accuracy: 0.8908 - loss: 0.3808 - val_accuracy: 0.8892 - val_loss: 0.3816 - learning_rate: 2.0000e-04\n",
            "Epoch 11/15\n",
            "\u001b[1m375/375\u001b[0m \u001b[32m━━━━━━━━━━━━━━━━━━━━\u001b[0m\u001b[37m\u001b[0m \u001b[1m202s\u001b[0m 401ms/step - accuracy: 0.8934 - loss: 0.3758 - val_accuracy: 0.8892 - val_loss: 0.3815 - learning_rate: 4.0000e-05\n",
            "\u001b[1m188/188\u001b[0m \u001b[32m━━━━━━━━━━━━━━━━━━━━\u001b[0m\u001b[37m\u001b[0m \u001b[1m14s\u001b[0m 76ms/step - accuracy: 0.8899 - loss: 0.3798\n",
            "\n",
            "Evaluasi Model LSTM:\n",
            "Accuracy: 0.8891666531562805\n"
          ]
        }
      ]
    },
    {
      "cell_type": "code",
      "source": [
        "\n",
        "import matplotlib.pyplot as plt\n",
        "\n",
        "plt.figure(figsize=(12, 6))\n",
        "\n",
        "plt.subplot(1, 2, 2)\n",
        "plt.plot(history.history['accuracy'], label='Train Accuracy')\n",
        "plt.plot(history.history['val_accuracy'], label='Validation Accuracy')\n",
        "plt.title('Accuracy During Training')\n",
        "plt.xlabel('Epochs')\n",
        "plt.ylabel('Accuracy')\n",
        "plt.legend()\n",
        "\n",
        "plt.subplot(1, 2, 1)\n",
        "plt.plot(history.history['loss'], label='Train Loss')\n",
        "plt.plot(history.history['val_loss'], label='Validation Loss')\n",
        "plt.title('Loss During Training')\n",
        "plt.xlabel('Epochs')\n",
        "plt.ylabel('Loss')\n",
        "plt.legend()\n",
        "\n",
        "plt.show()"
      ],
      "metadata": {
        "colab": {
          "base_uri": "https://localhost:8080/",
          "height": 564
        },
        "id": "IndjuvamXJUO",
        "outputId": "8d02cc77-64d9-417a-967f-0a1bd5d8c0b6"
      },
      "execution_count": 15,
      "outputs": [
        {
          "output_type": "display_data",
          "data": {
            "text/plain": [
              "<Figure size 1200x600 with 2 Axes>"
            ],
            "image/png": "[encoded data removed]"
          },
          "metadata": {}
        }
      ]
    },
    {
      "cell_type": "markdown",
      "source": [
        "#Testing"
      ],
      "metadata": {
        "id": "CCN2TliVmjip"
      }
    },
    {
      "cell_type": "code",
      "source": [
        "accuracies = {'SVM': accuracy_svm, 'Random Forest': accuracy_rf, 'LSTM': accuracy_lstm}\n",
        "\n",
        "best_model_name = max(accuracies, key=accuracies.get)\n",
        "print(\"\\nModel terbaik berdasarkan akurasi:\", best_model_name)"
      ],
      "metadata": {
        "colab": {
          "base_uri": "https://localhost:8080/"
        },
        "id": "cB-TZNvfic4C",
        "outputId": "ce31d204-6760-4928-e31f-e3aebeed9bd5"
      },
      "execution_count": 16,
      "outputs": [
        {
          "output_type": "stream",
          "name": "stdout",
          "text": [
            "\n",
            "Model terbaik berdasarkan akurasi: SVM\n"
          ]
        }
      ]
    },
    {
      "cell_type": "code",
      "source": [
        "le = LabelEncoder()\n",
        "le.fit(df['label'])\n",
        "if best_model_name == 'SVM':\n",
        "    best_model = svm\n",
        "    best_predictions = y_pred_svm\n",
        "elif best_model_name == 'Random Forest':\n",
        "    best_model = rf\n",
        "    best_predictions = y_pred_rf\n",
        "else:\n",
        "    best_model = model_lstm\n",
        "    best_predictions = model_lstm.predict(X_test_pad).argmax(axis=1)\n",
        "\n",
        "comparison_df = pd.DataFrame({\n",
        "    'Actual': le.inverse_transform(y_test),\n",
        "    'Predicted': le.inverse_transform(best_predictions)\n",
        "})\n",
        "print(\"\\nPerbandingan Label Asli dan Prediksi dengan Model Terbaik:\")\n",
        "print(comparison_df.head())"
      ],
      "metadata": {
        "colab": {
          "base_uri": "https://localhost:8080/"
        },
        "id": "roPQ-n7imSlO",
        "outputId": "c21fbccf-b2de-46d9-c70d-60a6c820fd6d"
      },
      "execution_count": 17,
      "outputs": [
        {
          "output_type": "stream",
          "name": "stdout",
          "text": [
            "\n",
            "Perbandingan Label Asli dan Prediksi dengan Model Terbaik:\n",
            "    Actual Predicted\n",
            "0   netral    netral\n",
            "1   netral    netral\n",
            "2   netral    netral\n",
            "3  positif   positif\n",
            "4   netral    netral\n"
          ]
        }
      ]
    },
    {
      "cell_type": "code",
      "source": [
        "!pip freeze > requirements.txt\n",
        "\n",
        "df = pd.read_csv('requirements.txt', names=['Package'])\n",
        "df.to_csv('requirements.csv', index=False)\n"
      ],
      "metadata": {
        "id": "hKlihjOXnni9"
      },
      "execution_count": 18,
      "outputs": []
    }
  ]
}